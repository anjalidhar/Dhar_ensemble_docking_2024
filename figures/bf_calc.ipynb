{
 "cells": [
  {
   "cell_type": "markdown",
   "metadata": {},
   "source": [
    "## imports ##"
   ]
  },
  {
   "cell_type": "code",
   "execution_count": 2,
   "metadata": {},
   "outputs": [],
   "source": [
    "import numpy as np \n",
    "import matplotlib.pyplot as plt\n",
    "import os, sys\n",
    "import seaborn as sns\n",
    "from scipy.stats import pearsonr\n",
    "import mdtraj as md \n",
    "import numpy as np \n",
    "import os, sys "
   ]
  },
  {
   "cell_type": "code",
   "execution_count": 3,
   "metadata": {},
   "outputs": [],
   "source": [
    "def source_module(module_file: str, local_module_name: str = None):\n",
    "    import importlib\n",
    "    \"\"\"to add a module from a user defined python script into the local name space\"\"\"\n",
    "    if local_module_name is None:\n",
    "        local_module_name = module_file.split(\"/\")[-1].replace(\".py\", \"\")\n",
    "    if len(module_file.split(\"/\")) == 1 or module_file.split(\"/\")[-2] == \".\":\n",
    "        module_dir = os.getcwd()\n",
    "    else:\n",
    "        module_dir = \"/\".join(module_file.split(\"/\")[:-1])\n",
    "    sys.path.insert(0, module_dir)\n",
    "    module = importlib.import_module(module_file.split(\"/\")[-1].replace(\".py\", \"\"))\n",
    "    g = globals()\n",
    "    g[local_module_name] = module\n",
    "    pass\n",
    "\n",
    "# importing a python script where I keep a lot of the basic functions I use!\n",
    "source_module(\"/Users/anjalidhar/Desktop/Packages/mdtools.py\")\n",
    "source_module(\"/Users/anjalidhar/Desktop/Packages/Writhe_Package/package/visualize/visualize.py\")\n",
    "\n",
    "# from visualize import palettes"
   ]
  },
  {
   "cell_type": "markdown",
   "metadata": {},
   "source": [
    "### Loading trajectories ###"
   ]
  },
  {
   "cell_type": "code",
   "execution_count": 4,
   "metadata": {},
   "outputs": [],
   "source": [
    "trajs = {}\n",
    "runs = ['41', '47'] # '23'\n",
    "tdir = '/Users/anjalidhar/Desktop/MD/trajectories'\n",
    "for run in runs: \n",
    "    traj_dir = f'{tdir}/{run}_all'\n",
    "    traj_files = mdtools.lsdir(traj_dir, keyword='.xtc')\n",
    "    pdb = mdtools.lsdir(traj_dir, keyword='pdb')[0]\n",
    "    trajs[run] = [md.load(file, top=pdb) for file in traj_files]\n"
   ]
  },
  {
   "cell_type": "code",
   "execution_count": 5,
   "metadata": {},
   "outputs": [],
   "source": [
    "traj_dir = f'{tdir}/23_all'\n",
    "traj_files = mdtools.lsdir(traj_dir, keyword='.dcd')\n",
    "pdb = mdtools.lsdir(traj_dir, keyword='pdb')[0]\n",
    "trajs['23'] = [md.load(file, top=pdb) for file in traj_files]"
   ]
  },
  {
   "cell_type": "markdown",
   "metadata": {},
   "source": [
    "### Now, trying to find the bound frames... ###"
   ]
  },
  {
   "cell_type": "code",
   "execution_count": 6,
   "metadata": {},
   "outputs": [],
   "source": [
    "bound_fraction = {}\n",
    "runs = ['41', '47', '23']\n",
    "for run in runs: \n",
    "    trajectories = trajs[run]\n",
    "    bound_fraction[run] = []\n",
    "    for t in trajectories: \n",
    "        bin_arr = mdtools.residue_distances(t, np.arange(20), np.array([21]))\n",
    "        contacts = np.where(np.sum(bin_arr, axis=1) > 0)[0].shape[0]\n",
    "        bound_fraction[run].append(contacts / bin_arr.shape[0])\n",
    "        "
   ]
  },
  {
   "cell_type": "code",
   "execution_count": 7,
   "metadata": {},
   "outputs": [
    {
     "name": "stdout",
     "output_type": "stream",
     "text": [
      "Avg BF for 41: 0.7426728970820597\n",
      "Avg BF for 47: 0.833832828158166\n",
      "Avg BF for 23: 0.5236053621884648\n"
     ]
    }
   ],
   "source": [
    "for run in runs: \n",
    "    print(f'Avg BF for {run}: {np.mean(np.array(bound_fraction[run]))}')"
   ]
  }
 ],
 "metadata": {
  "kernelspec": {
   "display_name": "test",
   "language": "python",
   "name": "python3"
  },
  "language_info": {
   "codemirror_mode": {
    "name": "ipython",
    "version": 3
   },
   "file_extension": ".py",
   "mimetype": "text/x-python",
   "name": "python",
   "nbconvert_exporter": "python",
   "pygments_lexer": "ipython3",
   "version": "3.11.7"
  }
 },
 "nbformat": 4,
 "nbformat_minor": 2
}
